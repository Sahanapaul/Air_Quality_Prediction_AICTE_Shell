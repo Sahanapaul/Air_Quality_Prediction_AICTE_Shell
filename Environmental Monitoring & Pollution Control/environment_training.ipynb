{
  "cells": [
    {
      "cell_type": "markdown",
      "metadata": {},
      "source": [
        "# Environmental Monitoring \u2014 Training Notebook\n",
        "This notebook generates synthetic data, trains an AQI regressor and AQI classifier, and saves models to `model/`.\n"
      ]
    },
    {
      "cell_type": "code",
      "execution_count": 1,
      "metadata": {},
      "outputs": [],
      "source": [
        "import pandas as pd\n",
        "import numpy as np\n",
        "from sklearn.ensemble import RandomForestRegressor, RandomForestClassifier, IsolationForest\n",
        "from sklearn.model_selection import train_test_split\n",
        "from sklearn.preprocessing import StandardScaler\n",
        "from sklearn.metrics import mean_squared_error, r2_score, accuracy_score, classification_report\n",
        "import joblib\n",
        "import os\n"
      ]
    },
    {
      "cell_type": "code",
      "execution_count": 2,
      "metadata": {},
      "outputs": [],
      "source": [
        "df = pd.read_csv(r'/mnt/data/smart_env_project/environment.csv')\n",
        "df.head()"
      ]
    },
    {
      "cell_type": "code",
      "execution_count": 3,
      "metadata": {},
      "outputs": [],
      "source": [
        "features = ['pm2_5','pm10','no2','co','o3','so2','temp','humidity','wind_speed']\n",
        "X = df[features]\n",
        "y_reg = df['aqi']\n",
        "y_cls = df['aqi_category']\n",
        "X_train_r, X_test_r, y_train_r, y_test_r = train_test_split(X, y_reg, test_size=0.2, random_state=42)\n",
        "scaler_r = StandardScaler()\n",
        "X_train_r_s = scaler_r.fit_transform(X_train_r)\n",
        "X_test_r_s = scaler_r.transform(X_test_r)\n"
      ]
    },
    {
      "cell_type": "code",
      "execution_count": 4,
      "metadata": {},
      "outputs": [],
      "source": [
        "reg = RandomForestRegressor(n_estimators=150, max_depth=18, random_state=42, n_jobs=-1)\n",
        "reg.fit(X_train_r_s, y_train_r)\n",
        "preds_r = reg.predict(X_test_r_s)\n",
        "print('R2:', r2_score(y_test_r, preds_r))\n",
        "print('RMSE:', mean_squared_error(y_test_r, preds_r, squared=False))\n",
        "os.makedirs('model', exist_ok=True)\n",
        "joblib.dump(reg, 'model/aqi_regressor.pkl')\n",
        "joblib.dump(scaler_r, 'model/scaler_reg.pkl')\n",
        "print('Saved regressor and scaler')\n"
      ]
    },
    {
      "cell_type": "code",
      "execution_count": 5,
      "metadata": {},
      "outputs": [],
      "source": [
        "X_train_c, X_test_c, y_train_c, y_test_c = train_test_split(X, y_cls, test_size=0.2, random_state=42, stratify=y_cls)\n",
        "scaler_c = StandardScaler()\n",
        "X_train_c_s = scaler_c.fit_transform(X_train_c)\n",
        "X_test_c_s = scaler_c.transform(X_test_c)\n",
        "clf = RandomForestClassifier(n_estimators=150, max_depth=18, random_state=42, n_jobs=-1)\n",
        "clf.fit(X_train_c_s, y_train_c)\n",
        "preds_c = clf.predict(X_test_c_s)\n",
        "print('Accuracy:', accuracy_score(y_test_c, preds_c))\n",
        "print(classification_report(y_test_c, preds_c))\n",
        "joblib.dump(clf, 'model/aqi_classifier.pkl')\n",
        "joblib.dump(scaler_c, 'model/scaler_clf.pkl')\n",
        "print('Saved classifier and scaler')\n"
      ]
    },
    {
      "cell_type": "code",
      "execution_count": 6,
      "metadata": {},
      "outputs": [],
      "source": [
        "iso = IsolationForest(n_estimators=200, contamination=0.02, random_state=42)\n",
        "iso.fit(X)\n",
        "joblib.dump(iso, 'model/anomaly_detector.pkl')\n",
        "print('Saved anomaly detector')\n"
      ]
    }
  ],
  "metadata": {
    "kernelspec": {
      "display_name": "Python 3",
      "language": "python",
      "name": "python3"
    },
    "language_info": {
      "name": "python",
      "version": "3.8"
    }
  },
  "nbformat": 4,
  "nbformat_minor": 5
}