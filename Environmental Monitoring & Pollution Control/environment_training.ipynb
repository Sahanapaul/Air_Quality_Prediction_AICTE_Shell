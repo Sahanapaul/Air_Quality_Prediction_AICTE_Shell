{
  "cells": [
    {
      "cell_type": "markdown",
      "metadata": {},
      "source": [
        "# Environmental Monitoring — Training Notebook\n",
        "This notebook generates synthetic data, trains an AQI regressor and AQI classifier, and saves models to `model/`.\n"
      ]
    },
    {
      "cell_type": "code",
      "execution_count": 11,
      "metadata": {},
      "outputs": [],
      "source": [
        "import pandas as pd\n",
        "import numpy as np\n",
        "from sklearn.ensemble import RandomForestRegressor, RandomForestClassifier, IsolationForest\n",
        "from sklearn.model_selection import train_test_split\n",
        "from sklearn.preprocessing import StandardScaler\n",
        "from sklearn.metrics import mean_squared_error, r2_score, accuracy_score, classification_report\n",
        "import joblib\n",
        "import os\n"
      ]
    },
    {
      "cell_type": "code",
      "execution_count": 12,
      "metadata": {},
      "outputs": [
        {
          "data": {
            "text/html": [
              "<div>\n",
              "<style scoped>\n",
              "    .dataframe tbody tr th:only-of-type {\n",
              "        vertical-align: middle;\n",
              "    }\n",
              "\n",
              "    .dataframe tbody tr th {\n",
              "        vertical-align: top;\n",
              "    }\n",
              "\n",
              "    .dataframe thead th {\n",
              "        text-align: right;\n",
              "    }\n",
              "</style>\n",
              "<table border=\"1\" class=\"dataframe\">\n",
              "  <thead>\n",
              "    <tr style=\"text-align: right;\">\n",
              "      <th></th>\n",
              "      <th>pm2_5</th>\n",
              "      <th>pm10</th>\n",
              "      <th>no2</th>\n",
              "      <th>co</th>\n",
              "      <th>o3</th>\n",
              "      <th>so2</th>\n",
              "      <th>temp</th>\n",
              "      <th>humidity</th>\n",
              "      <th>wind_speed</th>\n",
              "      <th>ph</th>\n",
              "      <th>turbidity</th>\n",
              "      <th>dissolved_oxygen</th>\n",
              "      <th>aqi</th>\n",
              "      <th>aqi_category</th>\n",
              "    </tr>\n",
              "  </thead>\n",
              "  <tbody>\n",
              "    <tr>\n",
              "      <th>0</th>\n",
              "      <td>69.141512</td>\n",
              "      <td>99.004669</td>\n",
              "      <td>33.804249</td>\n",
              "      <td>1.245385</td>\n",
              "      <td>21.550009</td>\n",
              "      <td>1.908579</td>\n",
              "      <td>28.169621</td>\n",
              "      <td>65.696437</td>\n",
              "      <td>3.623985</td>\n",
              "      <td>8.028005</td>\n",
              "      <td>19.618800</td>\n",
              "      <td>4.660653</td>\n",
              "      <td>153.257673</td>\n",
              "      <td>3</td>\n",
              "    </tr>\n",
              "    <tr>\n",
              "      <th>1</th>\n",
              "      <td>28.800477</td>\n",
              "      <td>87.866282</td>\n",
              "      <td>41.204723</td>\n",
              "      <td>1.905716</td>\n",
              "      <td>49.390986</td>\n",
              "      <td>9.620820</td>\n",
              "      <td>32.108505</td>\n",
              "      <td>43.860973</td>\n",
              "      <td>4.386224</td>\n",
              "      <td>6.389898</td>\n",
              "      <td>4.239545</td>\n",
              "      <td>5.584775</td>\n",
              "      <td>89.556492</td>\n",
              "      <td>1</td>\n",
              "    </tr>\n",
              "    <tr>\n",
              "      <th>2</th>\n",
              "      <td>82.513536</td>\n",
              "      <td>124.561745</td>\n",
              "      <td>15.184881</td>\n",
              "      <td>0.331846</td>\n",
              "      <td>21.346997</td>\n",
              "      <td>1.000000</td>\n",
              "      <td>28.113701</td>\n",
              "      <td>42.044932</td>\n",
              "      <td>7.981991</td>\n",
              "      <td>7.508251</td>\n",
              "      <td>0.904978</td>\n",
              "      <td>3.213752</td>\n",
              "      <td>200.890615</td>\n",
              "      <td>4</td>\n",
              "    </tr>\n",
              "    <tr>\n",
              "      <th>3</th>\n",
              "      <td>88.216941</td>\n",
              "      <td>114.269327</td>\n",
              "      <td>12.244929</td>\n",
              "      <td>0.418183</td>\n",
              "      <td>37.099399</td>\n",
              "      <td>4.277153</td>\n",
              "      <td>26.723821</td>\n",
              "      <td>43.776393</td>\n",
              "      <td>4.119822</td>\n",
              "      <td>7.595102</td>\n",
              "      <td>3.825659</td>\n",
              "      <td>6.360764</td>\n",
              "      <td>231.224789</td>\n",
              "      <td>4</td>\n",
              "    </tr>\n",
              "    <tr>\n",
              "      <th>4</th>\n",
              "      <td>1.468944</td>\n",
              "      <td>1.000000</td>\n",
              "      <td>43.645956</td>\n",
              "      <td>0.653793</td>\n",
              "      <td>27.491911</td>\n",
              "      <td>8.046469</td>\n",
              "      <td>28.191506</td>\n",
              "      <td>53.781252</td>\n",
              "      <td>1.925214</td>\n",
              "      <td>7.116703</td>\n",
              "      <td>4.291615</td>\n",
              "      <td>6.140923</td>\n",
              "      <td>8.769349</td>\n",
              "      <td>0</td>\n",
              "    </tr>\n",
              "  </tbody>\n",
              "</table>\n",
              "</div>"
            ],
            "text/plain": [
              "       pm2_5        pm10        no2        co         o3       so2       temp  \\\n",
              "0  69.141512   99.004669  33.804249  1.245385  21.550009  1.908579  28.169621   \n",
              "1  28.800477   87.866282  41.204723  1.905716  49.390986  9.620820  32.108505   \n",
              "2  82.513536  124.561745  15.184881  0.331846  21.346997  1.000000  28.113701   \n",
              "3  88.216941  114.269327  12.244929  0.418183  37.099399  4.277153  26.723821   \n",
              "4   1.468944    1.000000  43.645956  0.653793  27.491911  8.046469  28.191506   \n",
              "\n",
              "    humidity  wind_speed        ph  turbidity  dissolved_oxygen         aqi  \\\n",
              "0  65.696437    3.623985  8.028005  19.618800          4.660653  153.257673   \n",
              "1  43.860973    4.386224  6.389898   4.239545          5.584775   89.556492   \n",
              "2  42.044932    7.981991  7.508251   0.904978          3.213752  200.890615   \n",
              "3  43.776393    4.119822  7.595102   3.825659          6.360764  231.224789   \n",
              "4  53.781252    1.925214  7.116703   4.291615          6.140923    8.769349   \n",
              "\n",
              "   aqi_category  \n",
              "0             3  \n",
              "1             1  \n",
              "2             4  \n",
              "3             4  \n",
              "4             0  "
            ]
          },
          "execution_count": 12,
          "metadata": {},
          "output_type": "execute_result"
        }
      ],
      "source": [
        "df = pd.read_csv(r'C:\\Users\\lenovo\\Desktop\\Environmental Monitoring & Pollution Control\\environment.csv')\n",
        "df.head()"
      ]
    },
    {
      "cell_type": "code",
      "execution_count": 13,
      "metadata": {},
      "outputs": [],
      "source": [
        "features = ['pm2_5','pm10','no2','co','o3','so2','temp','humidity','wind_speed']\n",
        "X = df[features]\n",
        "y_reg = df['aqi']\n",
        "y_cls = df['aqi_category']\n",
        "X_train_r, X_test_r, y_train_r, y_test_r = train_test_split(X, y_reg, test_size=0.2, random_state=42)\n",
        "scaler_r = StandardScaler()\n",
        "X_train_r_s = scaler_r.fit_transform(X_train_r)\n",
        "X_test_r_s = scaler_r.transform(X_test_r)\n"
      ]
    },
    {
      "cell_type": "code",
      "execution_count": 14,
      "id": "14daea50",
      "metadata": {},
      "outputs": [
        {
          "name": "stdout",
          "output_type": "stream",
          "text": [
            "       pm2_5        pm10        no2        co         o3       so2       temp  \\\n",
            "0  69.141512   99.004669  33.804249  1.245385  21.550009  1.908579  28.169621   \n",
            "1  28.800477   87.866282  41.204723  1.905716  49.390986  9.620820  32.108505   \n",
            "2  82.513536  124.561745  15.184881  0.331846  21.346997  1.000000  28.113701   \n",
            "3  88.216941  114.269327  12.244929  0.418183  37.099399  4.277153  26.723821   \n",
            "4   1.468944    1.000000  43.645956  0.653793  27.491911  8.046469  28.191506   \n",
            "\n",
            "    humidity  wind_speed        ph  turbidity  dissolved_oxygen         aqi  \\\n",
            "0  65.696437    3.623985  8.028005  19.618800          4.660653  153.257673   \n",
            "1  43.860973    4.386224  6.389898   4.239545          5.584775   89.556492   \n",
            "2  42.044932    7.981991  7.508251   0.904978          3.213752  200.890615   \n",
            "3  43.776393    4.119822  7.595102   3.825659          6.360764  231.224789   \n",
            "4  53.781252    1.925214  7.116703   4.291615          6.140923    8.769349   \n",
            "\n",
            "   aqi_category  \n",
            "0             3  \n",
            "1             1  \n",
            "2             4  \n",
            "3             4  \n",
            "4             0  \n",
            "Index(['pm2_5', 'pm10', 'no2', 'co', 'o3', 'so2', 'temp', 'humidity',\n",
            "       'wind_speed', 'ph', 'turbidity', 'dissolved_oxygen', 'aqi',\n",
            "       'aqi_category'],\n",
            "      dtype='object')\n"
          ]
        }
      ],
      "source": [
        "import pandas as pd\n",
        "\n",
        "# Load dataset\n",
        "df = pd.read_csv(\"environment.csv\")\n",
        "\n",
        "# Quick check\n",
        "print(df.head())\n",
        "print(df.columns)\n"
      ]
    },
    {
      "cell_type": "code",
      "execution_count": 15,
      "id": "39d0e7b5",
      "metadata": {},
      "outputs": [],
      "source": [
        "from sklearn.model_selection import train_test_split\n",
        "from sklearn.preprocessing import StandardScaler\n",
        "\n",
        "# Features (X) and target (y)\n",
        "X = df.drop([\"aqi\", \"aqi_category\"], axis=1)   # all input features\n",
        "y = df[\"aqi\"]                                  # target for regression\n",
        "\n",
        "# Train-test split\n",
        "X_train_r, X_test_r, y_train_r, y_test_r = train_test_split(X, y, test_size=0.2, random_state=42)\n",
        "\n",
        "# Scaling\n",
        "scaler_r = StandardScaler()\n",
        "X_train_r_s = scaler_r.fit_transform(X_train_r)\n",
        "X_test_r_s = scaler_r.transform(X_test_r)\n"
      ]
    },
    {
      "cell_type": "code",
      "execution_count": 16,
      "id": "c8abc35f",
      "metadata": {},
      "outputs": [
        {
          "name": "stdout",
          "output_type": "stream",
          "text": [
            "R2: 0.9711539973898412\n",
            "RMSE: 10.573879385583478\n",
            "✅ Saved regressor and scaler\n"
          ]
        }
      ],
      "source": [
        "reg = RandomForestRegressor(n_estimators=150, max_depth=18, random_state=42, n_jobs=-1)\n",
        "reg.fit(X_train_r_s, y_train_r)\n",
        "preds_r = reg.predict(X_test_r_s)\n",
        "\n",
        "print(\"R2:\", r2_score(y_test_r, preds_r))\n",
        "\n",
        "mse = mean_squared_error(y_test_r, preds_r)\n",
        "rmse = np.sqrt(mse)\n",
        "print(\"RMSE:\", rmse)\n",
        "\n",
        "os.makedirs(\"model\", exist_ok=True)\n",
        "joblib.dump(reg, \"model/aqi_regressor.pkl\")\n",
        "joblib.dump(scaler_r, \"model/scaler_reg.pkl\")\n",
        "print(\"✅ Saved regressor and scaler\")\n"
      ]
    },
    {
      "cell_type": "code",
      "execution_count": 17,
      "metadata": {},
      "outputs": [
        {
          "name": "stdout",
          "output_type": "stream",
          "text": [
            "Accuracy: 0.8433333333333334\n",
            "              precision    recall  f1-score   support\n",
            "\n",
            "           0       0.92      0.81      0.86        72\n",
            "           1       0.81      0.83      0.82       188\n",
            "           2       0.82      0.85      0.84       341\n",
            "           3       0.85      0.83      0.84       350\n",
            "           4       0.87      0.90      0.89       237\n",
            "           5       0.86      0.50      0.63        12\n",
            "\n",
            "    accuracy                           0.84      1200\n",
            "   macro avg       0.86      0.79      0.81      1200\n",
            "weighted avg       0.84      0.84      0.84      1200\n",
            "\n",
            "Saved classifier and scaler\n"
          ]
        }
      ],
      "source": [
        "X_train_c, X_test_c, y_train_c, y_test_c = train_test_split(X, y_cls, test_size=0.2, random_state=42, stratify=y_cls)\n",
        "scaler_c = StandardScaler()\n",
        "X_train_c_s = scaler_c.fit_transform(X_train_c)\n",
        "X_test_c_s = scaler_c.transform(X_test_c)\n",
        "clf = RandomForestClassifier(n_estimators=150, max_depth=18, random_state=42, n_jobs=-1)\n",
        "clf.fit(X_train_c_s, y_train_c)\n",
        "preds_c = clf.predict(X_test_c_s)\n",
        "print('Accuracy:', accuracy_score(y_test_c, preds_c))\n",
        "print(classification_report(y_test_c, preds_c))\n",
        "joblib.dump(clf, 'model/aqi_classifier.pkl')\n",
        "joblib.dump(scaler_c, 'model/scaler_clf.pkl')\n",
        "print('Saved classifier and scaler')\n"
      ]
    },
    {
      "cell_type": "code",
      "execution_count": 18,
      "metadata": {},
      "outputs": [
        {
          "name": "stdout",
          "output_type": "stream",
          "text": [
            "Saved anomaly detector\n"
          ]
        }
      ],
      "source": [
        "iso = IsolationForest(n_estimators=200, contamination=0.02, random_state=42)\n",
        "iso.fit(X)\n",
        "joblib.dump(iso, 'model/anomaly_detector.pkl')\n",
        "print('Saved anomaly detector')\n"
      ]
    },
    {
      "cell_type": "code",
      "execution_count": 19,
      "id": "dcea9f50",
      "metadata": {},
      "outputs": [
        {
          "name": "stdout",
          "output_type": "stream",
          "text": [
            "✅ Models saved in 'model/' folder\n"
          ]
        }
      ],
      "source": [
        "import joblib, os\n",
        "\n",
        "# Create a folder to store models\n",
        "os.makedirs(\"model\", exist_ok=True)\n",
        "\n",
        "# Save trained models\n",
        "joblib.dump(reg, \"model/aqi_regressor.pkl\")\n",
        "joblib.dump(clf, \"model/aqi_classifier.pkl\")\n",
        "\n",
        "print(\"✅ Models saved in 'model/' folder\")\n"
      ]
    },
    {
      "cell_type": "code",
      "execution_count": 20,
      "id": "1c278915",
      "metadata": {},
      "outputs": [
        {
          "name": "stdout",
          "output_type": "stream",
          "text": [
            "✅ Model and scaler saved successfully!\n"
          ]
        }
      ],
      "source": [
        "import joblib\n",
        "import os\n",
        "\n",
        "# Create a folder to store model\n",
        "os.makedirs(\"model\", exist_ok=True)\n",
        "\n",
        "# Save model and scaler\n",
        "joblib.dump(reg, \"model/aqi_regressor.pkl\")\n",
        "joblib.dump(scaler_r, \"model/scaler_reg.pkl\")\n",
        "\n",
        "print(\"✅ Model and scaler saved successfully!\")\n"
      ]
    }
  ],
  "metadata": {
    "kernelspec": {
      "display_name": "Python 3",
      "language": "python",
      "name": "python3"
    },
    "language_info": {
      "codemirror_mode": {
        "name": "ipython",
        "version": 3
      },
      "file_extension": ".py",
      "mimetype": "text/x-python",
      "name": "python",
      "nbconvert_exporter": "python",
      "pygments_lexer": "ipython3",
      "version": "3.13.7"
    }
  },
  "nbformat": 4,
  "nbformat_minor": 5
}
